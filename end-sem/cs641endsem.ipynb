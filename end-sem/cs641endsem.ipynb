{
  "nbformat": 4,
  "nbformat_minor": 0,
  "metadata": {
    "colab": {
      "name": "cs641endsem.ipynb",
      "provenance": [],
      "collapsed_sections": []
    },
    "kernelspec": {
      "name": "python3",
      "display_name": "Python 3"
    },
    "language_info": {
      "name": "python"
    }
  },
  "cells": [
    {
      "cell_type": "markdown",
      "source": [
        "# The procedure of encription and decryption is shown in the following:"
      ],
      "metadata": {
        "id": "qMhKnlZ2QdQ_"
      }
    },
    {
      "cell_type": "code",
      "execution_count": null,
      "metadata": {
        "id": "6MjshQ0jer_I"
      },
      "outputs": [],
      "source": [
        "import numpy as np"
      ]
    },
    {
      "cell_type": "code",
      "source": [
        "n = 8"
      ],
      "metadata": {
        "id": "KpjStT1jobO4"
      },
      "execution_count": null,
      "outputs": []
    },
    {
      "cell_type": "code",
      "source": [
        "L = n * np.identity(n)"
      ],
      "metadata": {
        "id": "DcgudEV2wfy0"
      },
      "execution_count": null,
      "outputs": []
    },
    {
      "cell_type": "markdown",
      "source": [
        "## We generate a random unitary matrice\n",
        "\n",
        "To generate an unitary matrice, we multiply each row of an n×n identity matrix with -1 or 1 uniformly at random. Then we permute the rows (or eqvalently columns) randomly uniformly. We break out of the loop if the determinant of the matrice is 1."
      ],
      "metadata": {
        "id": "goeFzJNVQnq0"
      }
    },
    {
      "cell_type": "code",
      "source": [
        "# generate random U\n",
        "while True:\n",
        "    rnd = (np.random.choice([-1,1], n) * np.identity(n)).astype(int)\n",
        "    random_permut = np.random.permutation(n)\n",
        "    U = rnd[random_permut]\n",
        "    if np.isclose(np.linalg.det(U), 1.0): break\n",
        "print(U, np.linalg.det(U))"
      ],
      "metadata": {
        "colab": {
          "base_uri": "https://localhost:8080/"
        },
        "id": "4CXC8AyfVWXx",
        "outputId": "1c8cd70d-35e3-49fb-b052-c787d97007e1"
      },
      "execution_count": null,
      "outputs": [
        {
          "output_type": "stream",
          "name": "stdout",
          "text": [
            "[[ 0  0  0 -1  0  0  0  0]\n",
            " [ 0  0  0  0  0  0  0 -1]\n",
            " [ 1  0  0  0  0  0  0  0]\n",
            " [ 0 -1  0  0  0  0  0  0]\n",
            " [ 0  0  0  0 -1  0  0  0]\n",
            " [ 0  0 -1  0  0  0  0  0]\n",
            " [ 0  0  0  0  0  0  1  0]\n",
            " [ 0  0  0  0  0  1  0  0]] 1.0\n"
          ]
        }
      ]
    },
    {
      "cell_type": "markdown",
      "source": [
        "## Here we generate a rigid rotation matrice with rational entries\n"
      ],
      "metadata": {
        "id": "Hm_kv0LIRjor"
      }
    },
    {
      "cell_type": "code",
      "source": [
        "# generate a set of linearly independent vectors and a rigid rotation matrix\n",
        "while True:\n",
        "    vectors = np.random.randint(-10, 10, n*n).reshape((n,n))\n",
        "    if np.linalg.matrix_rank(vectors) == n: break\n",
        "orthbasis, uptri = np.linalg.qr(vectors)\n",
        "R = orthbasis\n",
        "print(R, np.linalg.det(R))"
      ],
      "metadata": {
        "id": "fawXWvitnXA2",
        "colab": {
          "base_uri": "https://localhost:8080/"
        },
        "outputId": "b86609a8-34f4-4941-8554-ef5f5dde5067"
      },
      "execution_count": null,
      "outputs": [
        {
          "output_type": "stream",
          "name": "stdout",
          "text": [
            "[[-0.6704784  -0.27277411 -0.36750124  0.11355483  0.2557279  -0.020284\n",
            "   0.35615981  0.36802599]\n",
            " [ 0.09578263 -0.01236136 -0.00517148  0.60976965 -0.64741554  0.09628139\n",
            "   0.43633216  0.0049364 ]\n",
            " [ 0.09578263  0.43676821 -0.48089872 -0.08377247 -0.28274944  0.12289797\n",
            "  -0.35056786  0.5863692 ]\n",
            " [ 0.         -0.71860732  0.27852763 -0.2109783  -0.36457461  0.12374325\n",
            "  -0.29449123  0.35575541]\n",
            " [ 0.09578263 -0.19201319 -0.5388345  -0.5497078  -0.348845   -0.19681438\n",
            "   0.2652722  -0.36143778]\n",
            " [-0.38313051 -0.04038046 -0.12548659  0.31929741 -0.21416985 -0.53820893\n",
            "  -0.56047579 -0.29019307]\n",
            " [-0.38313051  0.04944546 -0.09997306 -0.02555134 -0.11816962  0.77852142\n",
            "  -0.22242517 -0.41302064]\n",
            " [-0.47891314  0.42111048  0.48988852 -0.39871573 -0.34794948 -0.15937939\n",
            "   0.19790433  0.09330815]] -1.0\n"
          ]
        }
      ]
    },
    {
      "cell_type": "markdown",
      "source": [
        "## Compute $\\hat{L}$"
      ],
      "metadata": {
        "id": "eUo0yZcAUCFq"
      }
    },
    {
      "cell_type": "code",
      "source": [
        "L_hat = np.matmul(np.matmul(U,L), R)\n",
        "\n",
        "# look all columns and rows of L_hat are of same length\n",
        "# and also look that L_hat * L_hat.T = n**2 I\n",
        "print('cols-norm:', [np.linalg.norm(row) for row in L_hat.transpose()])\n",
        "print('rows-norm:',[np.linalg.norm(row) for row in L_hat])\n",
        "print(f'self*transpose:\\n{np.matmul(L_hat, L_hat.transpose()).round()}')"
      ],
      "metadata": {
        "id": "kca-QN9myof8",
        "colab": {
          "base_uri": "https://localhost:8080/"
        },
        "outputId": "6fed7913-4134-4055-cc83-661521d640f4"
      },
      "execution_count": null,
      "outputs": [
        {
          "output_type": "stream",
          "name": "stdout",
          "text": [
            "cols-norm: [8.000000000000002, 7.999999999999999, 8.0, 8.0, 7.999999999999999, 8.0, 7.999999999999999, 8.0]\n",
            "rows-norm: [8.0, 8.0, 8.0, 7.999999999999999, 8.0, 8.0, 8.0, 8.0]\n",
            "self*transpose:\n",
            "[[64.  0.  0. -0.  0.  0.  0.  0.]\n",
            " [ 0. 64.  0. -0. -0. -0. -0. -0.]\n",
            " [ 0.  0. 64.  0.  0. -0.  0. -0.]\n",
            " [-0. -0.  0. 64. -0.  0. -0.  0.]\n",
            " [ 0. -0.  0. -0. 64.  0. -0. -0.]\n",
            " [ 0. -0. -0.  0.  0. 64.  0. -0.]\n",
            " [ 0. -0.  0. -0. -0.  0. 64.  0.]\n",
            " [ 0. -0. -0.  0. -0. -0.  0. 64.]]\n"
          ]
        }
      ]
    },
    {
      "cell_type": "markdown",
      "source": [
        "# Encryption stage"
      ],
      "metadata": {
        "id": "gQ_7525rURfF"
      }
    },
    {
      "cell_type": "code",
      "source": [
        "# encription\n",
        "v = np.random.randint(-100,100,n).reshape((1,n))\n",
        "m = np.random.randint(0,2,n).reshape((1,n))\n",
        "c = np.matmul(v,L_hat) + m\n",
        "print(c, m)"
      ],
      "metadata": {
        "colab": {
          "base_uri": "https://localhost:8080/"
        },
        "id": "2sMGM3-qzkPx",
        "outputId": "c1e33812-1a69-413e-a22b-e7148547f01e"
      },
      "execution_count": null,
      "outputs": [
        {
          "output_type": "stream",
          "name": "stdout",
          "text": [
            "[[  259.2299665   -577.03058491  -270.9405042    -10.49715089\n",
            "    326.16858599  -582.8450789  -1062.11341971    66.50019824]] [[1 1 1 1 1 1 1 0]]\n"
          ]
        }
      ]
    },
    {
      "cell_type": "markdown",
      "source": [
        "# Decryption stage"
      ],
      "metadata": {
        "id": "2H7jH09zUVEJ"
      }
    },
    {
      "cell_type": "code",
      "source": [
        "# decryption\n",
        "d = np.matmul(c, R.transpose())\n",
        "print(d)\n",
        "for j in range(n):\n",
        "        d[0,j] = d[0,j]%n\n",
        "        if d[0,j] > n/2: d[0,j] -= n\n",
        "        elif d[0,j] < -n/2: d[0,j] += n\n",
        "print(d)\n",
        "\n",
        "md = np.matmul(d, R)\n",
        "print(md)\n",
        "print(md.round().astype(int))\n",
        "assert (md.round().astype(int) == m).all()"
      ],
      "metadata": {
        "colab": {
          "base_uri": "https://localhost:8080/"
        },
        "id": "_eTV31sy0NX7",
        "outputId": "2a6d7550-8dcc-4c2c-c6d8-d83ce060ee6e"
      },
      "execution_count": null,
      "outputs": [
        {
          "output_type": "stream",
          "name": "stdout",
          "text": [
            "[[-176.60559521 -703.42678257  151.45746032  486.81361942  -17.46516004\n",
            "   774.45744528 -384.02128283 -720.27605442]]\n",
            "[[-0.60559521  0.57321743 -0.54253968 -1.18638058 -1.46516004 -1.54255472\n",
            "  -0.02128283 -0.27605442]]\n",
            "[[1.00000000e+00 1.00000000e+00 1.00000000e+00 1.00000000e+00\n",
            "  1.00000000e+00 1.00000000e+00 1.00000000e+00 7.90478794e-14]]\n",
            "[[1 1 1 1 1 1 1 0]]\n"
          ]
        }
      ]
    },
    {
      "cell_type": "markdown",
      "source": [
        "# Attack on system\n",
        "\n",
        "We don't even need to find the basis of the original private key $R$. "
      ],
      "metadata": {
        "id": "g86fkS0TUaC-"
      }
    },
    {
      "cell_type": "code",
      "source": [
        "# check correct decription for a different R for a different U_prime\n",
        "U_prime = np.identity(n)\n",
        "R_prime = L_hat/n\n",
        "\n",
        "# decryption\n",
        "d_prime = np.matmul(c, R_prime.transpose())\n",
        "print(d_prime)\n",
        "for j in range(n):\n",
        "        d_prime[0,j] = d_prime[0,j]%n\n",
        "        if d_prime[0,j] > n/2: d_prime[0,j] -= n\n",
        "        elif d_prime[0,j] < -n/2: d_prime[0,j] += n\n",
        "print(d_prime)\n",
        "\n",
        "md_prime = np.matmul(d_prime, R_prime)\n",
        "print(md_prime)\n",
        "print(md_prime.round().astype(int))\n",
        "assert (md_prime.round().astype(int) == m).all()"
      ],
      "metadata": {
        "colab": {
          "base_uri": "https://localhost:8080/"
        },
        "id": "AycNNKRaRB1g",
        "outputId": "c52ff0a2-5d06-44a4-e8b3-5de2bb7a9870"
      },
      "execution_count": null,
      "outputs": [
        {
          "output_type": "stream",
          "name": "stdout",
          "text": [
            "[[-486.81361942  720.27605442 -176.60559521  703.42678257   17.46516004\n",
            "  -151.45746032 -384.02128283  774.45744528]]\n",
            "[[ 1.18638058  0.27605442 -0.60559521 -0.57321743  1.46516004  0.54253968\n",
            "  -0.02128283 -1.54255472]]\n",
            "[[1.00000000e+00 1.00000000e+00 1.00000000e+00 1.00000000e+00\n",
            "  1.00000000e+00 1.00000000e+00 1.00000000e+00 7.90478794e-14]]\n",
            "[[1 1 1 1 1 1 1 0]]\n"
          ]
        }
      ]
    },
    {
      "cell_type": "markdown",
      "source": [
        "# Checking the success of the attack for randomly generated parameters R, U, and m\n",
        "\n",
        "If the attack is unsuccesfull for some choosen parameters, then there will be printed an assertion error."
      ],
      "metadata": {
        "id": "1NZEmd_5Ugis"
      }
    },
    {
      "cell_type": "code",
      "source": [
        "# check correct decription for a different R for a different U_prime for random instances of m and U\n",
        "n=10\n",
        "L = n * np.identity(n)\n",
        "for repete in range(1000):\n",
        "    # generate random U\n",
        "    while True:\n",
        "        rnd = (np.random.choice([-1,1], n) * np.identity(n)).astype(int)\n",
        "        random_permut = np.random.permutation(n)\n",
        "        U = rnd[random_permut]\n",
        "        if np.isclose(np.linalg.det(U), 1.0): break\n",
        "    # print(U, np.linalg.det(U))\n",
        "    # generate a set of linearly independent vectors and a rigid rotation matrix\n",
        "    while True:\n",
        "        vectors = np.random.randint(-1000, 1000, n*n).reshape((n,n))\n",
        "        if np.linalg.matrix_rank(vectors) == n: break\n",
        "    orthbasis, uptri = np.linalg.qr(vectors)\n",
        "    R = orthbasis\n",
        "    # print(R, np.linalg.det(R))\n",
        "    L_hat = np.matmul(np.matmul(U,L), R)\n",
        "    \n",
        "    # encription\n",
        "    v = np.random.randint(-100,100,n).reshape((1,n))\n",
        "    m = np.random.randint(0,2,n).reshape((1,n))\n",
        "    c = np.matmul(v,L_hat) + m\n",
        "    # print(c, m)\n",
        "\n",
        "    # check correct decription for a different R for a different U_prime\n",
        "    U_prime = np.identity(n)\n",
        "    R_prime = L_hat/n\n",
        "\n",
        "    # decryption\n",
        "    d_prime = np.matmul(c, R_prime.transpose())\n",
        "    # print(d_prime)\n",
        "    for j in range(n):\n",
        "            d_prime[0,j] = d_prime[0,j]%n\n",
        "            if d_prime[0,j] > n/2: d_prime[0,j] -= n\n",
        "            elif d_prime[0,j] < -n/2: d_prime[0,j] += n\n",
        "    # print(d_prime)\n",
        "\n",
        "    md_prime = np.matmul(d_prime, R_prime)\n",
        "    assert (md_prime.round().astype(int) == m).all()\n",
        "\n"
      ],
      "metadata": {
        "id": "y9O3lV9VSe6V"
      },
      "execution_count": null,
      "outputs": []
    },
    {
      "cell_type": "markdown",
      "source": [
        "# Checking the decryption of the cipher for randomly generated parameters R, U, and m\n"
      ],
      "metadata": {
        "id": "htqxMLhEVX-N"
      }
    },
    {
      "cell_type": "code",
      "source": [
        "# check if correct decription for some n for all possible m\n",
        "n=3\n",
        "\n",
        "# U = np.identity(n)\n",
        "L = n * np.identity(n)\n",
        "\n",
        "for repeats in range(10):\n",
        "    # R = np.array([[0.6, -0.8], [0.8, 0.6]])\n",
        "\n",
        "    # generate a set of linearly independent vectors and a rigid rotation matrix\n",
        "    while True:\n",
        "        vectors = np.random.randint(-1000, 1000, n*n).reshape((n,n));\n",
        "        if np.linalg.matrix_rank(vectors) == n: break\n",
        "    orthbasis, uptri = np.linalg.qr(vectors)\n",
        "    R = orthbasis\n",
        "\n",
        "    # assert np.isclose(abs(np.linalg.det(R)), 1)\n",
        "    # assert np.isclose(np.matmul(R, R.transpose()), np.identity(n)).all()\n",
        "\n",
        "    # generate random U\n",
        "    while True:\n",
        "        rnd = (np.random.choice([-1,1], n) * np.identity(n)).astype(int)\n",
        "        random_permut = np.random.permutation(n)\n",
        "        U = rnd[random_permut]\n",
        "        if np.isclose(np.linalg.det(U), 1.0): break\n",
        "    # print(U, np.linalg.det(U))\n",
        "\n",
        "    L_hat = np.matmul(np.matmul(U,L), R)\n",
        "    v = np.random.randint(-100,100,n).reshape((1,n))\n",
        "\n",
        "\n",
        "    for m in range(2**n):\n",
        "        # encryption\n",
        "        m = np.array([*bin(m)[2:].zfill(n)], dtype=float).reshape((1,n))\n",
        "        c = np.matmul(v,L_hat) + m\n",
        "\n",
        "        # decryption\n",
        "        d = np.matmul(c, R.transpose()) \n",
        "        for j in range(n):\n",
        "            d[0,j] = d[0,j]%n\n",
        "            if d[0,j] > n/2: d[0,j] -= n\n",
        "            elif d[0,j] < -n/2: d[0,j] += n\n",
        "        \n",
        "        md = np.matmul(d, R)\n",
        "\n",
        "        if np.isclose(md, m).all(): continue\n",
        "        print(m,md)\n",
        "        print(U)\n",
        "        print(R)\n",
        "        print(v, '\\n')"
      ],
      "metadata": {
        "colab": {
          "base_uri": "https://localhost:8080/"
        },
        "id": "qAVtgmil8XKV",
        "outputId": "0909ce4e-3a1d-4e1b-dfc1-0e9876999a24"
      },
      "execution_count": null,
      "outputs": [
        {
          "output_type": "stream",
          "name": "stdout",
          "text": [
            "[[1. 1. 1.]] [[-0.83115651 -0.88636407 -0.44516312]]\n",
            "[[ 0 -1  0]\n",
            " [-1  0  0]\n",
            " [ 0  0 -1]]\n",
            "[[-0.6103855  -0.62878802 -0.48172104]\n",
            " [ 0.52607811 -0.77645948  0.34691856]\n",
            " [-0.59217511 -0.04166883  0.80473123]]\n",
            "[[ 94  50 -91]] \n",
            "\n",
            "[[1. 1. 1.]] [[-0.36145685 -1.57960685  0.29852747]]\n",
            "[[0 1 0]\n",
            " [0 0 1]\n",
            " [1 0 0]]\n",
            "[[-0.45381895 -0.85986895 -0.23382418]\n",
            " [ 0.2551628  -0.37680988  0.89045284]\n",
            " [-0.85378001  0.34444114  0.39041003]]\n",
            "[[ 54  24 -41]] \n",
            "\n"
          ]
        }
      ]
    },
    {
      "cell_type": "markdown",
      "source": [
        "## Verify that every cipher text $c = v\\hat{L}+m$ maps to an unique $m$\n",
        "\n",
        "If this was not the case the code will output more than once. The first output is trivial for $m_1 = m_2$ and $v_1 = v_2$.\n",
        "\n",
        "The idea is that if $(m_1 - m_2)\\times\\hat{L}^{-1}=v_1 - v_2$ is an integer then we have the cipher $c_1=v_1\\times\\hat{L}+m_1 = c_2=v_2\\times\\hat{L}+m_2$.We bruteforce over all possible values of $m_1-m_2$ for a randomly choosen U, R."
      ],
      "metadata": {
        "id": "PzfslF2OYlCY"
      }
    },
    {
      "cell_type": "code",
      "source": [
        "# 0 = (v1-v2)*L_hat + (m1 - m2)\n",
        "# (m1-m2)*L_hat_inv = v1-v2\n",
        "\n",
        "import numpy as np\n",
        "\n",
        "n = 10\n",
        "\n",
        "L = n * np.identity(n)\n",
        "\n",
        "# generate random U\n",
        "while True:\n",
        "    rnd = (np.random.choice([-1,1], n) * np.identity(n)).astype(int)\n",
        "    random_permut = np.random.permutation(n)\n",
        "    U = rnd[random_permut]\n",
        "    if np.isclose(np.linalg.det(U), 1.0): break\n",
        "\n",
        "# generate a set of linearly independent vectors and a rigid rotation matrix\n",
        "while True:\n",
        "    vectors = np.random.randint(-10, 10, n*n).reshape((n,n))\n",
        "    if np.linalg.matrix_rank(vectors) == n: break\n",
        "orthbasis, uptri = np.linalg.qr(vectors)\n",
        "R = orthbasis\n",
        "\n",
        "# make the L_hat\n",
        "L_hat = np.matmul(np.matmul(U,L), R)\n",
        "\n",
        "# the bruteforce part\n",
        "M = [-1, 0, 1]\n",
        "L_hat_inv = np.linalg.inv(L_hat)\n",
        "for i in range(3**n):\n",
        "    m1mm2 = [-1]*n; k = 0 # m1mm2 is m1 - m2 -> each element can take value in [-1, 0, 1]\n",
        "    while i > 0:\n",
        "        m1mm2[n-k-1] = M[i%3]\n",
        "        i = i//3\n",
        "        k += 1\n",
        "    m1mm2 = np.array([m1mm2])\n",
        "    # if this is an integer then m1 and m2 can correspnond to same cipher \n",
        "    v1mv2 = np.matmul(m1mm2, L_hat_inv)\n",
        "    if np.allclose(v1mv2, v1mv2.round(), rtol=1e-10):\n",
        "        print(m1mm2, v1mv2.round())"
      ],
      "metadata": {
        "id": "_-cPcKFA865a"
      },
      "execution_count": null,
      "outputs": []
    },
    {
      "cell_type": "markdown",
      "source": [
        "# An Attack of the bruteforce way\n",
        "we bruteforce over $m$ to find a $v$ with integer entries"
      ],
      "metadata": {
        "id": "-RZGzoHwcnuX"
      }
    },
    {
      "cell_type": "code",
      "source": [
        "n = 10\n",
        "m = np.random.randint(0,2,n).reshape((1,n)) # a random m\n",
        "print('actual message', m)\n",
        "\n",
        "L = n * np.identity(n)\n",
        "# generate random U\n",
        "while True:\n",
        "    rnd = (np.random.choice([-1,1], n) * np.identity(n)).astype(int)\n",
        "    random_permut = np.random.permutation(n)\n",
        "    U = rnd[random_permut]\n",
        "    if np.isclose(np.linalg.det(U), 1.0): break\n",
        "# generate a set of linearly independent vectors and a rigid rotation matrix\n",
        "while True:\n",
        "    vectors = np.random.randint(-10, 10, n*n).reshape((n,n))\n",
        "    if np.linalg.matrix_rank(vectors) == n: break\n",
        "orthbasis, uptri = np.linalg.qr(vectors)\n",
        "R = orthbasis\n",
        "# make the L_hat\n",
        "L_hat = np.matmul(np.matmul(U,L), R)\n",
        "\n",
        "# get a cipher\n",
        "v = np.random.randint(-100,100,n).reshape((1,n))\n",
        "c = np.matmul(v,L_hat) + m\n",
        "print('cipher', c)\n",
        "\n",
        "# the bruteforce part:\n",
        "L_hat_inv = np.linalg.inv(L_hat)\n",
        "for m_guess in range(2**n):\n",
        "    m_guess = np.array([*bin(m_guess)[2:].zfill(n)], dtype=float).reshape((1,n))\n",
        "    v_guess = np.matmul((c-m_guess), L_hat_inv)\n",
        "    if np.allclose(v_guess, v_guess.round(), rtol=1e-10):\n",
        "        print('guessed m:', m_guess.round().astype(int))\n",
        "        break\n"
      ],
      "metadata": {
        "colab": {
          "base_uri": "https://localhost:8080/"
        },
        "id": "YDAx76CacnQM",
        "outputId": "7adc4138-f1d4-4c3c-9bad-7a771524c48e"
      },
      "execution_count": 37,
      "outputs": [
        {
          "output_type": "stream",
          "name": "stdout",
          "text": [
            "actual message [[1 1 1 0 0 0 1 1 1 1]]\n",
            "cipher [[ 160.90053727  889.22884321 -565.18535851  862.06847579  -58.34625953\n",
            "   143.78993871  858.01392199 -136.54326116 -415.77070205 1096.43815955]]\n",
            "guessed m: [[1 1 1 0 0 0 1 1 1 1]]\n"
          ]
        }
      ]
    },
    {
      "cell_type": "markdown",
      "source": [
        "## Code used for testing purposes and discarded code - just there for completeness"
      ],
      "metadata": {
        "id": "CSWvuoQjVO_N"
      }
    },
    {
      "cell_type": "code",
      "source": [
        "# # checking orthogonality of L_hat for random U\n",
        "# for n in [50]:\n",
        "\n",
        "#     n2I = n**2 * np.identity(n)\n",
        "#     L = n * np.identity(n)\n",
        "#     for repeats in range(100):\n",
        "\n",
        "#         # generate random U\n",
        "#         while True:\n",
        "#             rnd = (np.random.choice([-1,1], n) * np.identity(n)).astype(int)\n",
        "#             random_permut = np.random.permutation(n)\n",
        "#             U = rnd[random_permut]\n",
        "#             if np.isclose(np.linalg.det(U), 1.0): break\n",
        "            \n",
        "#         # generate a set of linearly independent vectors and a rigid rotation matrix\n",
        "#         while True:\n",
        "#             vectors = np.random.randint(-1000, 1000, n*n).reshape((n,n))\n",
        "#             if np.linalg.matrix_rank(vectors) == n: break\n",
        "#         orthbasis, uptri = np.linalg.qr(vectors)\n",
        "#         R = orthbasis\n",
        "\n",
        "#         L_hat = np.matmul(np.matmul(U,L), R)\n",
        "#         assert np.allclose([np.linalg.norm(row) for row in L_hat.transpose()], n)\n",
        "#         assert np.allclose([np.linalg.norm(row) for row in L_hat], n)\n",
        "#         assert np.allclose(np.matmul(L_hat, L_hat.transpose()), n2I)\n",
        "    "
      ],
      "metadata": {
        "id": "8nyYKCJl3qk5"
      },
      "execution_count": null,
      "outputs": []
    },
    {
      "cell_type": "code",
      "source": [
        "# # generate random U by integer eigen values\n",
        "# I = np.identity(n)\n",
        "# while True:\n",
        "#     Eigens = np.random.randint(-1, 2, n) * np.identity(n, dtype=int)\n",
        "#     # print(Eigens)\n",
        "\n",
        "#     while True:\n",
        "#         V = np.random.randint(-10, 10, n*n).reshape((n,n))\n",
        "#         det_V = np.linalg.det(V)\n",
        "#         if not np.isclose(0.0, det_V, rtol=1e-10): break\n",
        "        \n",
        "#     # U is an integer matrix\n",
        "#     U = det_V * np.matmul(np.matmul(V, Eigens), np.linalg.inv(V))\n",
        "#     det_U = np.linalg.det(U)\n",
        "\n",
        "#     if np.isclose(det_U, 0.0, rtol=1e-10): continue\n",
        "\n",
        "#     U = U / (det_U ** (1/n))\n",
        "\n",
        "#     det_U = np.linalg.det(U)\n",
        "#     if np.allclose(U, I, rtol=1e-10): continue\n",
        "#     if not np.isclose(det_U, 1.0, rtol=1e-10): continue\n",
        "#     if not np.allclose(U, np.round(U), rtol=1e-10): continue\n",
        "#     if np.allclose(np.matmul(U, U.transpose()), I): break # final condition for unitary\n",
        "\n",
        "# print('before round: ', U, 'det: ', np.linalg.det(U))\n",
        "\n",
        "# U = np.round(U)\n",
        "\n",
        "# print(U)"
      ],
      "metadata": {
        "id": "DhTIc6R9IkTM"
      },
      "execution_count": null,
      "outputs": []
    },
    {
      "cell_type": "code",
      "source": [
        "# def gram_schmidt(A):\n",
        "#     \"\"\"Orthogonalize a set of vectors stored as the columns of matrix A.\"\"\"\n",
        "#     # Get the number of vectors.\n",
        "#     n = A.shape[1]\n",
        "#     for j in range(n):\n",
        "#         # To orthogonalize the vector in column j with respect to the\n",
        "#         # previous vectors, subtract from it its projection onto\n",
        "#         # each of the previous vectors.\n",
        "#         for k in range(j):\n",
        "#             A[:, j] -= np.dot(A[:, k], A[:, j]) * A[:, k]\n",
        "#         A[:, j] = A[:, j] / np.linalg.norm(A[:, j])\n",
        "#     return A\n",
        "\n",
        "# if __name__ == '__main__':\n",
        "#     print(gram_schmidt(vectors.transpose()))"
      ],
      "metadata": {
        "id": "tsR0rFXExbcZ"
      },
      "execution_count": null,
      "outputs": []
    },
    {
      "cell_type": "code",
      "source": [
        "# def gram_schmidt(vectors):\n",
        "#     basis = []\n",
        "#     for v in vectors:\n",
        "#         w = v - np.sum( [np.dot(v,b)*b  for b in basis] )\n",
        "#         if (abs(w) > 1e-10).any():  \n",
        "#             basis.append(w/np.linalg.norm(w))\n",
        "#     return np.array(basis)\n",
        "\n",
        "# orthbasis1 = gram_schmidt(vectors)\n",
        "# np.matmul(orthbasis1, orthbasis1.transpose())"
      ],
      "metadata": {
        "id": "wy4NR3PNwdh7"
      },
      "execution_count": null,
      "outputs": []
    },
    {
      "cell_type": "code",
      "source": [
        "# A = vectors.copy()\n",
        "\n",
        "# def normalize(v):\n",
        "#     return v / np.sqrt(v.dot(v))\n",
        "\n",
        "# n = len(A)\n",
        "\n",
        "# A[:, 0] = normalize(A[:, 0])\n",
        "\n",
        "# for i in range(1, n):\n",
        "#     Ai = A[:, i]\n",
        "#     for j in range(0, i):\n",
        "#         Aj = A[:, j]\n",
        "#         t = Ai.dot(Aj)\n",
        "#         Ai = Ai - t * Aj\n",
        "#     A[:, i] = normalize(Ai)\n",
        "\n",
        "# print(A)"
      ],
      "metadata": {
        "id": "y6F_mW5Zu2HO"
      },
      "execution_count": null,
      "outputs": []
    },
    {
      "cell_type": "code",
      "source": [
        "# import numpy as np\n",
        "\n",
        "\n",
        "# def gram_schmidt(A):\n",
        "    \n",
        "#     (n, m) = A.shape\n",
        "#     print(A)\n",
        "    \n",
        "#     for i in range(m):\n",
        "        \n",
        "#         q = A[:, i] # i-th column of A\n",
        "        \n",
        "#         for j in range(i):\n",
        "#             q = q - np.dot(A[:, j], A[:, i]) * A[:, j]\n",
        "        \n",
        "#         if np.array_equal(q, np.zeros(q.shape)):\n",
        "#             raise np.linalg.LinAlgError(\"The column vectors are not linearly independent\")\n",
        "        \n",
        "#         # normalize q\n",
        "#         q = q / np.sqrt(np.dot(q, q))\n",
        "        \n",
        "#         # write the vector back in the matrix\n",
        "#         A[:, i] = q\n",
        "\n",
        "\n",
        "# C = vectors.copy()\n",
        "# gram_schmidt(C)\n",
        "# print(C)"
      ],
      "metadata": {
        "id": "-l_Ncl58tILa"
      },
      "execution_count": null,
      "outputs": []
    },
    {
      "cell_type": "code",
      "source": [
        "# n = 6\n",
        "# I = np.identity(n)\n",
        "\n",
        "# # make a rational orthogonal matrix\n",
        "# S = np.zeros((n,n))\n",
        "# for i in range(n):\n",
        "#     for j in range(n): \n",
        "#         if j == i: continue\n",
        "#         S[i,j] = np.random.randint(-100,100)\n",
        "#         S[j,i] = -S[i,j] \n",
        "# R = np.linalg.inv(S-I)*(S+I)\n",
        "# print('S:',S)\n",
        "# print('R:',R)\n",
        "# print('det:', np.linalg.det(R))\n",
        "# R /= (np.linalg.det(R))**(1/n)"
      ],
      "metadata": {
        "id": "kEiDGEt9e05e"
      },
      "execution_count": null,
      "outputs": []
    },
    {
      "cell_type": "code",
      "source": [
        ""
      ],
      "metadata": {
        "id": "RXQ8y12JfU5A"
      },
      "execution_count": null,
      "outputs": []
    }
  ]
}